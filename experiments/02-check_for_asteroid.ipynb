{
 "cells": [
  {
   "cell_type": "code",
   "execution_count": null,
   "metadata": {},
   "outputs": [],
   "source": [
    "import bs4\n",
    "from bs4 import BeautifulSoup\n",
    "import os\n",
    "from os.path import join"
   ]
  },
  {
   "cell_type": "code",
   "execution_count": null,
   "metadata": {},
   "outputs": [],
   "source": [
    "files_dir = '../examples'\n",
    "files = os.listdir(files_dir)\n",
    "files"
   ]
  },
  {
   "cell_type": "code",
   "execution_count": null,
   "metadata": {},
   "outputs": [],
   "source": [
    "with open(join(files_dir, file), \"r\") as f:\n",
    "    content = f.read()"
   ]
  },
  {
   "cell_type": "code",
   "execution_count": null,
   "metadata": {},
   "outputs": [],
   "source": [
    "a_name_first_occurance = content.find('<a name')\n",
    "head = content[: a_name_first_occurance]\n",
    "head"
   ]
  },
  {
   "cell_type": "code",
   "execution_count": null,
   "metadata": {},
   "outputs": [],
   "source": [
    "transients = content[a_name_first_occurance:].split('<hr>')[:-1]\n",
    "len(transients)"
   ]
  },
  {
   "cell_type": "code",
   "execution_count": null,
   "metadata": {},
   "outputs": [],
   "source": [
    "max_mag = 40\n",
    "def is_asteroid(pre_text):\n",
    "    if 'The object was found in astcheck' in pre_text:\n",
    "        pre_text_split = pre_text.split('\\n')\n",
    "        \n",
    "        obj_mag = float(pre_text_split[1].strip().split()[4])\n",
    "#         print(obj_mag)\n",
    "        assert obj_mag < max_mag\n",
    "        \n",
    "        for idx, el in enumerate(pre_text_split):\n",
    "            if 'astcheck' in el:\n",
    "                ast_idx = idx - 1\n",
    "                break\n",
    "        ast_split = pre_text_split[ast_idx].strip().split()\n",
    "        ast_1 = float(ast_split[2])\n",
    "        ast_2 = float(ast_split[3])\n",
    "        ast_mag = float(ast_split[5])\n",
    "#         print(ast_mag)\n",
    "        assert ast_mag < max_mag\n",
    "        return (abs(obj_mag - ast_mag) <= 1 and \n",
    "                ast_1 <= 10 and\n",
    "                ast_2 <= 10)\n",
    "    else:\n",
    "        return False"
   ]
  },
  {
   "cell_type": "code",
   "execution_count": null,
   "metadata": {},
   "outputs": [],
   "source": [
    "from tqdm import tqdm\n",
    "\n",
    "asteroids = []\n",
    "for transient in tqdm(transients):\n",
    "    transient_bs = BeautifulSoup(transient)\n",
    "    asteroids.append(is_asteroid(transient_bs.pre.text))"
   ]
  },
  {
   "cell_type": "code",
   "execution_count": null,
   "metadata": {},
   "outputs": [],
   "source": [
    "asteroids"
   ]
  }
 ],
 "metadata": {
  "kernelspec": {
   "display_name": "Python 3.7.9 64-bit ('base': conda)",
   "language": "python",
   "name": "python379jvsc74a57bd025196701b9cfa52ed7cd9138d0d767422d70fc39bbf57a73174c0e71dff4aa15"
  },
  "language_info": {
   "codemirror_mode": {
    "name": "ipython",
    "version": 3
   },
   "file_extension": ".py",
   "mimetype": "text/x-python",
   "name": "python",
   "nbconvert_exporter": "python",
   "pygments_lexer": "ipython3",
   "version": "3.7.9"
  }
 },
 "nbformat": 4,
 "nbformat_minor": 4
}
