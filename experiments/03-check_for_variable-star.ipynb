{
 "cells": [
  {
   "cell_type": "code",
   "execution_count": 1,
   "metadata": {},
   "outputs": [],
   "source": [
    "import bs4\n",
    "from bs4 import BeautifulSoup\n",
    "import os\n",
    "from os.path import join"
   ]
  },
  {
   "cell_type": "code",
   "execution_count": 2,
   "metadata": {},
   "outputs": [],
   "source": [
    "files_dir = '../examples'\n",
    "file = '20210123_morning_Stas.html'"
   ]
  },
  {
   "cell_type": "code",
   "execution_count": 3,
   "metadata": {},
   "outputs": [],
   "source": [
    "with open(join(files_dir, file), \"r\") as f:\n",
    "    content = f.read()"
   ]
  },
  {
   "cell_type": "code",
   "execution_count": 4,
   "metadata": {},
   "outputs": [
    {
     "data": {
      "text/plain": [
       "'\\n<!-- saved from url=(0096)http://vast.sai.msu.ru/unmw/uploads/20210123_morning_Stas.html#21577_Gem1_2021-1-22_20-43-52_003 -->\\n<html><head><meta http-equiv=\"Content-Type\" content=\"text/html; charset=windows-1252\">\\n<style>\\n body {\\n       font-family:monospace;\\n       font-size:12px;\\'\\n      }\\n</style>\\n\\n<script type=\"text/javascript\">\\nfunction toggleElement(id)\\n{\\n    if(document.getElementById(id).style.display == \\'none\\')\\n    {\\n        document.getElementById(id).style.display = \\'\\';\\n    }\\n    else\\n    {   \\n        document.getElementById(id).style.display = \\'none\\';\\n    }\\n}\\n\\nfunction printCandidateNameWithAbsLink( transientname) {\\n\\n var currentLocation = window.location.href;\\n \\n var n = currentLocation.indexOf(\\'#\\');\\n currentLocation = currentLocation.substring(0, n != -1 ? n : currentLocation.length);\\n var transientLink = \"#\";\\n transientLink = transientLink.concat(transientname);\\n var targetURL = currentLocation.concat(transientLink);\\n \\n var outputString = \"<h3><a href=\\'\";\\n outputString = outputString.concat(targetURL);\\n outputString = outputString.concat(\"\\'>\");\\n outputString = outputString.concat(transientname);\\n outputString = outputString.concat(\"</a></h3>\");\\n\\n document.write(outputString); \\n\\n}\\n\\n</script>\\n\\n</head>\\n\\n<body>\\n\\n'"
      ]
     },
     "execution_count": 4,
     "metadata": {},
     "output_type": "execute_result"
    }
   ],
   "source": [
    "a_name_first_occurance = content.find('<a name')\n",
    "head = content[: a_name_first_occurance]\n",
    "head"
   ]
  },
  {
   "cell_type": "code",
   "execution_count": 5,
   "metadata": {},
   "outputs": [
    {
     "data": {
      "text/plain": [
       "167"
      ]
     },
     "execution_count": 5,
     "metadata": {},
     "output_type": "execute_result"
    }
   ],
   "source": [
    "transients = content[a_name_first_occurance:].split('<hr>')[:-1]\n",
    "len(transients)"
   ]
  },
  {
   "cell_type": "code",
   "execution_count": 37,
   "metadata": {},
   "outputs": [
    {
     "data": {
      "text/plain": [
       "'Mean magnitude and position on the discovery images: \\n                   2021 01 23.1381  2459237.6381  12.17  19:15:15.32 +01:18:39.5\\n 36.82411  -4.69591 galactic   Second-epoch detections are separated by 2.9\" and 16.5 pix\\nThe object was found in VSX\\n 1\"  ASAS J191515+0118.6           \\nType: SR\\n#   Max.           Min./Amp.       JD0           Period\\n    9.138 Ic     (  0.374 Ic     2453247.5000     361.\\nThe object was not found in astcheck.\\nCheck this position in TNS.                         Manually check the ASAS-SN list of transients!\\nSearch this object in SIMBAD.\\nSearch this object in VizieR catalogs.\\nSearch for previous observations of this object in the NSVS database.\\nShow this position in WISE atlas\\n2MASS, SDSS, and DSS Finder Chart\\n'"
      ]
     },
     "execution_count": 37,
     "metadata": {},
     "output_type": "execute_result"
    }
   ],
   "source": [
    "pre_text = BeautifulSoup(transients[103]).pre.text # 53\n",
    "pre_text"
   ]
  },
  {
   "cell_type": "code",
   "execution_count": 38,
   "metadata": {},
   "outputs": [
    {
     "data": {
      "text/plain": [
       "['Mean magnitude and position on the discovery images: ',\n",
       " '                   2021 01 23.1381  2459237.6381  12.17  19:15:15.32 +01:18:39.5',\n",
       " ' 36.82411  -4.69591 galactic   Second-epoch detections are separated by 2.9\" and 16.5 pix',\n",
       " 'The object was found in VSX',\n",
       " ' 1\"  ASAS J191515+0118.6           ',\n",
       " 'Type: SR',\n",
       " '#   Max.           Min./Amp.       JD0           Period',\n",
       " '    9.138 Ic     (  0.374 Ic     2453247.5000     361.',\n",
       " 'The object was not found in astcheck.',\n",
       " 'Check this position in TNS.                         Manually check the ASAS-SN list of transients!',\n",
       " 'Search this object in SIMBAD.',\n",
       " 'Search this object in VizieR catalogs.',\n",
       " 'Search for previous observations of this object in the NSVS database.',\n",
       " 'Show this position in WISE atlas',\n",
       " '2MASS, SDSS, and DSS Finder Chart',\n",
       " '']"
      ]
     },
     "execution_count": 38,
     "metadata": {},
     "output_type": "execute_result"
    }
   ],
   "source": [
    "pre_text_split = pre_text.split('\\n')\n",
    "pre_text_split"
   ]
  },
  {
   "cell_type": "code",
   "execution_count": 39,
   "metadata": {},
   "outputs": [],
   "source": [
    "for idx, el in enumerate(pre_text_split):\n",
    "    if 'VSX' in el:\n",
    "        vs_idx = idx + 1\n",
    "        break"
   ]
  },
  {
   "cell_type": "code",
   "execution_count": 40,
   "metadata": {},
   "outputs": [
    {
     "data": {
      "text/plain": [
       "1"
      ]
     },
     "execution_count": 40,
     "metadata": {},
     "output_type": "execute_result"
    }
   ],
   "source": [
    "vs_arcsec = int(pre_text_split[vs_idx].strip().split()[0][:-1])\n",
    "vs_arcsec"
   ]
  },
  {
   "cell_type": "code",
   "execution_count": 41,
   "metadata": {},
   "outputs": [
    {
     "data": {
      "text/plain": [
       "True"
      ]
     },
     "execution_count": 41,
     "metadata": {},
     "output_type": "execute_result"
    }
   ],
   "source": [
    "vs_arcsec <= 10"
   ]
  },
  {
   "cell_type": "code",
   "execution_count": 42,
   "metadata": {},
   "outputs": [],
   "source": [
    "max_arcsec = 10\n",
    "\n",
    "def is_variable_star(pre_text):\n",
    "    if 'The object was found in VSX' in pre_text:\n",
    "        pre_text_split = pre_text.split('\\n')\n",
    "        for idx, el in enumerate(pre_text_split):\n",
    "            if 'VSX' in el:\n",
    "                vs_idx = idx + 1\n",
    "                break\n",
    "        vs_arcsec = int(pre_text_split[vs_idx].strip().split()[0][:-1])\n",
    "        return vs_arcsec <= max_arcsec\n",
    "    else:\n",
    "        return False"
   ]
  },
  {
   "cell_type": "code",
   "execution_count": 43,
   "metadata": {},
   "outputs": [
    {
     "name": "stderr",
     "output_type": "stream",
     "text": [
      "100%|██████████| 167/167 [00:00<00:00, 238.59it/s]\n"
     ]
    }
   ],
   "source": [
    "from tqdm import tqdm\n",
    "\n",
    "variable_stars = []\n",
    "for transient in tqdm(transients):\n",
    "    transient_bs = BeautifulSoup(transient)\n",
    "    variable_stars.append(is_variable_star(transient_bs.pre.text))"
   ]
  },
  {
   "cell_type": "code",
   "execution_count": 44,
   "metadata": {},
   "outputs": [
    {
     "data": {
      "text/plain": [
       "[False,\n",
       " False,\n",
       " False,\n",
       " False,\n",
       " False,\n",
       " False,\n",
       " False,\n",
       " False,\n",
       " False,\n",
       " False,\n",
       " False,\n",
       " False,\n",
       " False,\n",
       " False,\n",
       " False,\n",
       " False,\n",
       " False,\n",
       " False,\n",
       " False,\n",
       " False,\n",
       " False,\n",
       " False,\n",
       " False,\n",
       " False,\n",
       " False,\n",
       " False,\n",
       " False,\n",
       " False,\n",
       " False,\n",
       " False,\n",
       " False,\n",
       " False,\n",
       " False,\n",
       " False,\n",
       " False,\n",
       " False,\n",
       " False,\n",
       " False,\n",
       " False,\n",
       " False,\n",
       " False,\n",
       " False,\n",
       " False,\n",
       " False,\n",
       " False,\n",
       " False,\n",
       " False,\n",
       " False,\n",
       " False,\n",
       " False,\n",
       " False,\n",
       " False,\n",
       " False,\n",
       " False,\n",
       " False,\n",
       " False,\n",
       " False,\n",
       " False,\n",
       " False,\n",
       " False,\n",
       " False,\n",
       " False,\n",
       " False,\n",
       " False,\n",
       " True,\n",
       " True,\n",
       " True,\n",
       " True,\n",
       " True,\n",
       " False,\n",
       " False,\n",
       " True,\n",
       " False,\n",
       " True,\n",
       " True,\n",
       " True,\n",
       " False,\n",
       " True,\n",
       " True,\n",
       " False,\n",
       " True,\n",
       " True,\n",
       " True,\n",
       " True,\n",
       " True,\n",
       " True,\n",
       " False,\n",
       " True,\n",
       " True,\n",
       " False,\n",
       " True,\n",
       " True,\n",
       " False,\n",
       " True,\n",
       " True,\n",
       " True,\n",
       " True,\n",
       " False,\n",
       " True,\n",
       " True,\n",
       " False,\n",
       " False,\n",
       " True,\n",
       " True,\n",
       " True,\n",
       " False,\n",
       " True,\n",
       " True,\n",
       " True,\n",
       " False,\n",
       " True,\n",
       " True,\n",
       " True,\n",
       " True,\n",
       " True,\n",
       " True,\n",
       " True,\n",
       " True,\n",
       " True,\n",
       " True,\n",
       " False,\n",
       " False,\n",
       " True,\n",
       " True,\n",
       " False,\n",
       " True,\n",
       " True,\n",
       " True,\n",
       " True,\n",
       " True,\n",
       " True,\n",
       " True,\n",
       " True,\n",
       " True,\n",
       " True,\n",
       " True,\n",
       " True,\n",
       " False,\n",
       " True,\n",
       " False,\n",
       " False,\n",
       " False,\n",
       " True,\n",
       " False,\n",
       " True,\n",
       " False,\n",
       " False,\n",
       " False,\n",
       " False,\n",
       " False,\n",
       " False,\n",
       " True,\n",
       " True,\n",
       " False,\n",
       " False,\n",
       " False,\n",
       " False,\n",
       " False,\n",
       " False,\n",
       " False,\n",
       " False,\n",
       " False,\n",
       " False,\n",
       " False,\n",
       " False,\n",
       " False,\n",
       " False]"
      ]
     },
     "execution_count": 44,
     "metadata": {},
     "output_type": "execute_result"
    }
   ],
   "source": [
    "variable_stars"
   ]
  },
  {
   "cell_type": "code",
   "execution_count": null,
   "metadata": {},
   "outputs": [],
   "source": []
  }
 ],
 "metadata": {
  "kernelspec": {
   "display_name": "Python 3.7.9 64-bit ('base': conda)",
   "language": "python",
   "name": "python379jvsc74a57bd025196701b9cfa52ed7cd9138d0d767422d70fc39bbf57a73174c0e71dff4aa15"
  },
  "language_info": {
   "codemirror_mode": {
    "name": "ipython",
    "version": 3
   },
   "file_extension": ".py",
   "mimetype": "text/x-python",
   "name": "python",
   "nbconvert_exporter": "python",
   "pygments_lexer": "ipython3",
   "version": "3.7.9"
  }
 },
 "nbformat": 4,
 "nbformat_minor": 4
}
