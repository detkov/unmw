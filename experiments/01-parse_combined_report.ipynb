{
 "cells": [
  {
   "cell_type": "code",
   "execution_count": 1,
   "metadata": {},
   "outputs": [],
   "source": [
    "import bs4\n",
    "from bs4 import BeautifulSoup\n",
    "import os\n",
    "from os.path import join, splitext"
   ]
  },
  {
   "cell_type": "code",
   "execution_count": 2,
   "metadata": {},
   "outputs": [],
   "source": [
    "files_dir = '../examples'\n",
    "output_dir = '../output'\n",
    "os.makedirs(output_dir, exist_ok=True)\n",
    "file = '20210123_morning_Stas.html'"
   ]
  },
  {
   "cell_type": "code",
   "execution_count": 3,
   "metadata": {},
   "outputs": [],
   "source": [
    "with open(join(files_dir, file), 'r') as f:\n",
    "    content = f.read()"
   ]
  },
  {
   "cell_type": "code",
   "execution_count": 4,
   "metadata": {},
   "outputs": [
    {
     "data": {
      "text/plain": [
       "'\\n<!-- saved from url=(0096)http://vast.sai.msu.ru/unmw/uploads/20210123_morning_Stas.html#21577_Gem1_2021-1-22_20-43-52_003 -->\\n<html><head><meta http-equiv=\"Content-Type\" content=\"text/html; charset=windows-1252\">\\n<style>\\n body {\\n       font-family:monospace;\\n       font-size:12px;\\'\\n      }\\n</style>\\n\\n<script type=\"text/javascript\">\\nfunction toggleElement(id)\\n{\\n    if(document.getElementById(id).style.display == \\'none\\')\\n    {\\n        document.getElementById(id).style.display = \\'\\';\\n    }\\n    else\\n    {   \\n        document.getElementById(id).style.display = \\'none\\';\\n    }\\n}\\n\\nfunction printCandidateNameWithAbsLink( transientname) {\\n\\n var currentLocation = window.location.href;\\n \\n var n = currentLocation.indexOf(\\'#\\');\\n currentLocation = currentLocation.substring(0, n != -1 ? n : currentLocation.length);\\n var transientLink = \"#\";\\n transientLink = transientLink.concat(transientname);\\n var targetURL = currentLocation.concat(transientLink);\\n \\n var outputString = \"<h3><a href=\\'\";\\n outputString = outputString.concat(targetURL);\\n outputString = outputString.concat(\"\\'>\");\\n outputString = outputString.concat(transientname);\\n outputString = outputString.concat(\"</a></h3>\");\\n\\n document.write(outputString); \\n\\n}\\n\\n</script>\\n\\n</head>\\n\\n<body>\\n\\n'"
      ]
     },
     "execution_count": 4,
     "metadata": {},
     "output_type": "execute_result"
    }
   ],
   "source": [
    "a_name_first_occurance = content.find('<a name')\n",
    "head = content[: a_name_first_occurance]\n",
    "head"
   ]
  },
  {
   "cell_type": "code",
   "execution_count": 5,
   "metadata": {},
   "outputs": [
    {
     "data": {
      "text/plain": [
       "167"
      ]
     },
     "execution_count": 5,
     "metadata": {},
     "output_type": "execute_result"
    }
   ],
   "source": [
    "transients = content[a_name_first_occurance:].split('<hr>')[:-1]\n",
    "len(transients)"
   ]
  },
  {
   "cell_type": "code",
   "execution_count": 8,
   "metadata": {},
   "outputs": [],
   "source": [
    "output = head + '<hr>'.join(transients) + '\\n<hr></body></html>'"
   ]
  },
  {
   "cell_type": "code",
   "execution_count": 9,
   "metadata": {},
   "outputs": [],
   "source": [
    "with open(join(output_dir, splitext(file)[0]+'___'+splitext(file)[1]), 'w') as f:\n",
    "    f.write(output)"
   ]
  }
 ],
 "metadata": {
  "kernelspec": {
   "display_name": "Python 3.7.9 64-bit ('base': conda)",
   "language": "python",
   "name": "python379jvsc74a57bd025196701b9cfa52ed7cd9138d0d767422d70fc39bbf57a73174c0e71dff4aa15"
  },
  "language_info": {
   "codemirror_mode": {
    "name": "ipython",
    "version": 3
   },
   "file_extension": ".py",
   "mimetype": "text/x-python",
   "name": "python",
   "nbconvert_exporter": "python",
   "pygments_lexer": "ipython3",
   "version": "3.7.9"
  }
 },
 "nbformat": 4,
 "nbformat_minor": 4
}
